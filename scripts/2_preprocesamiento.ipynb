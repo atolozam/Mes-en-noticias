{
 "cells": [
  {
   "cell_type": "markdown",
   "metadata": {},
   "source": [
    "### **Pre procesamos las noticias que tenemos**\n",
    "_Por Juan Carlos Rodríguez-Raga y Andrés Mauricio Toloza Cruz_\n",
    "\n",
    "Este código hace un pre procesamiento básico de las noticias para poderr hacer analisis posteriores. "
   ]
  },
  {
   "cell_type": "markdown",
   "metadata": {},
   "source": [
    "##### **Primer paso: descargar e importar nuestras librerias**\n",
    "La libreria que usaremos principalmente será NLTK, pero también necesitamos Pandas:\n",
    "\n",
    "    ! pip install nltk\n",
    "    ! pip install pandas\n",
    "\n",
    "Tambien usaremos otras librerias pero estas ya vienen instaldas en Python."
   ]
  },
  {
   "cell_type": "code",
   "execution_count": 39,
   "metadata": {},
   "outputs": [
    {
     "name": "stderr",
     "output_type": "stream",
     "text": [
      "[nltk_data] Downloading package stopwords to\n",
      "[nltk_data]     C:\\Users\\andre\\AppData\\Roaming\\nltk_data...\n",
      "[nltk_data]   Package stopwords is already up-to-date!\n"
     ]
    }
   ],
   "source": [
    "# Importamos las librerias que usaremos\n",
    "\n",
    "import pandas as pd \n",
    "import nltk\n",
    "from nltk.corpus import stopwords\n",
    "from nltk.tokenize import TweetTokenizer, RegexpTokenizer\n",
    "\n",
    "nltk.download('stopwords')\n",
    "\n",
    "import os\n",
    "import string\n",
    "import re"
   ]
  },
  {
   "cell_type": "code",
   "execution_count": 9,
   "metadata": {},
   "outputs": [],
   "source": [
    "os.chdir('C:/Users/andre/OneDrive - Universidad de los andes/C.1. Centro de Datos/Noticias del mes/mes-en-noticias-1')"
   ]
  },
  {
   "cell_type": "code",
   "execution_count": 43,
   "metadata": {},
   "outputs": [],
   "source": [
    "# Importamos nuestras bases de dato\n",
    "\n",
    "caracol = pd.read_csv('raw-data/Caracol_Enero2025.csv')\n",
    "el_espectador = pd.read_csv('raw-data/ElEspectador_Enero2025.csv')\n",
    "semana = pd.read_csv('raw-data/Semana_Enero2025.csv')\n",
    "lasilla = pd.read_csv('raw-data/LaSillaVacia_Enero2025.csv')"
   ]
  },
  {
   "cell_type": "code",
   "execution_count": 44,
   "metadata": {},
   "outputs": [],
   "source": [
    "# Pegamos las bases de datos verticalmente\n",
    "\n",
    "df_raw = pd.concat([caracol, el_espectador, semana, lasilla], axis = 0)"
   ]
  },
  {
   "cell_type": "code",
   "execution_count": 45,
   "metadata": {},
   "outputs": [],
   "source": [
    "# Eliminamos duplicados\n",
    "\n",
    "df_raw = df_raw.drop_duplicates()"
   ]
  },
  {
   "cell_type": "code",
   "execution_count": 46,
   "metadata": {},
   "outputs": [
    {
     "data": {
      "text/plain": [
       "1105"
      ]
     },
     "execution_count": 46,
     "metadata": {},
     "output_type": "execute_result"
    }
   ],
   "source": [
    "len(df_raw)"
   ]
  },
  {
   "cell_type": "code",
   "execution_count": 47,
   "metadata": {},
   "outputs": [
    {
     "data": {
      "text/html": [
       "<div>\n",
       "<style scoped>\n",
       "    .dataframe tbody tr th:only-of-type {\n",
       "        vertical-align: middle;\n",
       "    }\n",
       "\n",
       "    .dataframe tbody tr th {\n",
       "        vertical-align: top;\n",
       "    }\n",
       "\n",
       "    .dataframe thead th {\n",
       "        text-align: right;\n",
       "    }\n",
       "</style>\n",
       "<table border=\"1\" class=\"dataframe\">\n",
       "  <thead>\n",
       "    <tr style=\"text-align: right;\">\n",
       "      <th></th>\n",
       "      <th>title</th>\n",
       "      <th>published_date</th>\n",
       "      <th>top_image</th>\n",
       "      <th>link</th>\n",
       "      <th>full_link</th>\n",
       "      <th>text</th>\n",
       "    </tr>\n",
       "  </thead>\n",
       "  <tbody>\n",
       "    <tr>\n",
       "      <th>0</th>\n",
       "      <td>Laura Sarabia, canciller designada, hace “un l...</td>\n",
       "      <td>2025-01-26</td>\n",
       "      <td>https://caracoltv.brightspotcdn.com/dims4/defa...</td>\n",
       "      <td>www.noticiascaracol.com</td>\n",
       "      <td>https://www.noticiascaracol.com/politica/laura...</td>\n",
       "      <td>Laura Sarabia, canciller designada, hace “un l...</td>\n",
       "    </tr>\n",
       "    <tr>\n",
       "      <th>1</th>\n",
       "      <td>Nicolás Maduro le ofrece al presidente Gustavo...</td>\n",
       "      <td>2025-01-26</td>\n",
       "      <td>https://caracoltv.brightspotcdn.com/dims4/defa...</td>\n",
       "      <td>www.noticiascaracol.com</td>\n",
       "      <td>https://www.noticiascaracol.com/politica/nicol...</td>\n",
       "      <td>NA través de Instagram, el autoproclamado mand...</td>\n",
       "    </tr>\n",
       "    <tr>\n",
       "      <th>2</th>\n",
       "      <td>Federico Gutiérrez a Gustavo Petro tras sancio...</td>\n",
       "      <td>2025-01-26</td>\n",
       "      <td>https://caracoltv.brightspotcdn.com/dims4/defa...</td>\n",
       "      <td>www.noticiascaracol.com</td>\n",
       "      <td>https://www.noticiascaracol.com/politica/feder...</td>\n",
       "      <td>Sigue la tensión internacional y nacional por ...</td>\n",
       "    </tr>\n",
       "  </tbody>\n",
       "</table>\n",
       "</div>"
      ],
      "text/plain": [
       "                                               title published_date  \\\n",
       "0  Laura Sarabia, canciller designada, hace “un l...     2025-01-26   \n",
       "1  Nicolás Maduro le ofrece al presidente Gustavo...     2025-01-26   \n",
       "2  Federico Gutiérrez a Gustavo Petro tras sancio...     2025-01-26   \n",
       "\n",
       "                                           top_image                     link  \\\n",
       "0  https://caracoltv.brightspotcdn.com/dims4/defa...  www.noticiascaracol.com   \n",
       "1  https://caracoltv.brightspotcdn.com/dims4/defa...  www.noticiascaracol.com   \n",
       "2  https://caracoltv.brightspotcdn.com/dims4/defa...  www.noticiascaracol.com   \n",
       "\n",
       "                                           full_link  \\\n",
       "0  https://www.noticiascaracol.com/politica/laura...   \n",
       "1  https://www.noticiascaracol.com/politica/nicol...   \n",
       "2  https://www.noticiascaracol.com/politica/feder...   \n",
       "\n",
       "                                                text  \n",
       "0  Laura Sarabia, canciller designada, hace “un l...  \n",
       "1  NA través de Instagram, el autoproclamado mand...  \n",
       "2  Sigue la tensión internacional y nacional por ...  "
      ]
     },
     "execution_count": 47,
     "metadata": {},
     "output_type": "execute_result"
    }
   ],
   "source": [
    "df_raw.head(3)"
   ]
  },
  {
   "cell_type": "code",
   "execution_count": 48,
   "metadata": {},
   "outputs": [
    {
     "data": {
      "text/plain": [
       "link\n",
       "www.semana.com             395\n",
       "www.lasillavacia.com       354\n",
       "www.elespectador.com       284\n",
       "www.noticiascaracol.com     72\n",
       "Name: count, dtype: int64"
      ]
     },
     "execution_count": 48,
     "metadata": {},
     "output_type": "execute_result"
    }
   ],
   "source": [
    "conteo = df_raw['link'].value_counts()\n",
    "\n",
    "conteo"
   ]
  },
  {
   "cell_type": "code",
   "execution_count": 49,
   "metadata": {},
   "outputs": [
    {
     "data": {
      "text/plain": [
       "np.int64(1)"
      ]
     },
     "execution_count": 49,
     "metadata": {},
     "output_type": "execute_result"
    }
   ],
   "source": [
    "error_count = df_raw['title'].str.contains('Error').sum()\n",
    "\n",
    "error_count"
   ]
  },
  {
   "cell_type": "code",
   "execution_count": 50,
   "metadata": {},
   "outputs": [],
   "source": [
    "# Eliminamos las filas que contienen la palabra error\n",
    "\n",
    "df_raw = df_raw[~df_raw['title'].str.contains('Error')]"
   ]
  },
  {
   "cell_type": "code",
   "execution_count": 51,
   "metadata": {},
   "outputs": [
    {
     "data": {
      "text/plain": [
       "1104"
      ]
     },
     "execution_count": 51,
     "metadata": {},
     "output_type": "execute_result"
    }
   ],
   "source": [
    "len(df_raw)"
   ]
  },
  {
   "cell_type": "markdown",
   "metadata": {},
   "source": [
    "##### **Segundo paso: tokenizamos y limpiamos el texto**\n",
    "\n",
    "En esta sección creamos una nueva columna con los artículos tokenizados y eliminamos las StopWords"
   ]
  },
  {
   "cell_type": "code",
   "execution_count": 52,
   "metadata": {},
   "outputs": [],
   "source": [
    "stop_words = nltk.corpus.stopwords.words('spanish')\n",
    "\n",
    "punc = list(set(string.punctuation))\n",
    "punc.append('¿')\n",
    "punc.append('¡')"
   ]
  },
  {
   "cell_type": "code",
   "execution_count": 53,
   "metadata": {},
   "outputs": [],
   "source": [
    "# Cargamos nuestro tokenizador \n",
    "\n",
    "def casual_tokenizer(text):\n",
    "    tokenizer = TweetTokenizer()\n",
    "    tokens = tokenizer.tokenize(text)\n",
    "    return tokens"
   ]
  },
  {
   "cell_type": "code",
   "execution_count": 54,
   "metadata": {},
   "outputs": [],
   "source": [
    "# Hacemos un función para limpiar el texto\n",
    "\n",
    "def process_text(text):\n",
    "    text = casual_tokenizer(text)\n",
    "    text = [each.lower() for each in text]\n",
    "    text = [re.sub('[0-9]+', '', each) for each in text]\n",
    "    text = [w for w in text if w not in punc]\n",
    "    text = [w for w in text if w not in stop_words]\n",
    "    text = [each for each in text if len(each) > 1]\n",
    "    text = [each for each in text if ' ' not in each]\n",
    "    return text"
   ]
  },
  {
   "cell_type": "code",
   "execution_count": 56,
   "metadata": {},
   "outputs": [],
   "source": [
    "df_raw.loc[:, 'processed_text'] = df_raw['text'].apply(process_text)"
   ]
  },
  {
   "cell_type": "code",
   "execution_count": 63,
   "metadata": {},
   "outputs": [
    {
     "data": {
      "text/html": [
       "<div>\n",
       "<style scoped>\n",
       "    .dataframe tbody tr th:only-of-type {\n",
       "        vertical-align: middle;\n",
       "    }\n",
       "\n",
       "    .dataframe tbody tr th {\n",
       "        vertical-align: top;\n",
       "    }\n",
       "\n",
       "    .dataframe thead th {\n",
       "        text-align: right;\n",
       "    }\n",
       "</style>\n",
       "<table border=\"1\" class=\"dataframe\">\n",
       "  <thead>\n",
       "    <tr style=\"text-align: right;\">\n",
       "      <th></th>\n",
       "      <th>title</th>\n",
       "      <th>published_date</th>\n",
       "      <th>top_image</th>\n",
       "      <th>link</th>\n",
       "      <th>full_link</th>\n",
       "      <th>text</th>\n",
       "      <th>processed_text</th>\n",
       "    </tr>\n",
       "  </thead>\n",
       "  <tbody>\n",
       "    <tr>\n",
       "      <th>0</th>\n",
       "      <td>Laura Sarabia, canciller designada, hace “un l...</td>\n",
       "      <td>2025-01-26</td>\n",
       "      <td>https://caracoltv.brightspotcdn.com/dims4/defa...</td>\n",
       "      <td>www.noticiascaracol.com</td>\n",
       "      <td>https://www.noticiascaracol.com/politica/laura...</td>\n",
       "      <td>Laura Sarabia, canciller designada, hace “un l...</td>\n",
       "      <td>[laura, sarabia, canciller, designada, hace, l...</td>\n",
       "    </tr>\n",
       "    <tr>\n",
       "      <th>1</th>\n",
       "      <td>Nicolás Maduro le ofrece al presidente Gustavo...</td>\n",
       "      <td>2025-01-26</td>\n",
       "      <td>https://caracoltv.brightspotcdn.com/dims4/defa...</td>\n",
       "      <td>www.noticiascaracol.com</td>\n",
       "      <td>https://www.noticiascaracol.com/politica/nicol...</td>\n",
       "      <td>NA través de Instagram, el autoproclamado mand...</td>\n",
       "      <td>[na, través, instagram, autoproclamado, mandat...</td>\n",
       "    </tr>\n",
       "    <tr>\n",
       "      <th>2</th>\n",
       "      <td>Federico Gutiérrez a Gustavo Petro tras sancio...</td>\n",
       "      <td>2025-01-26</td>\n",
       "      <td>https://caracoltv.brightspotcdn.com/dims4/defa...</td>\n",
       "      <td>www.noticiascaracol.com</td>\n",
       "      <td>https://www.noticiascaracol.com/politica/feder...</td>\n",
       "      <td>Sigue la tensión internacional y nacional por ...</td>\n",
       "      <td>[sigue, tensión, internacional, nacional, rifi...</td>\n",
       "    </tr>\n",
       "  </tbody>\n",
       "</table>\n",
       "</div>"
      ],
      "text/plain": [
       "                                               title published_date  \\\n",
       "0  Laura Sarabia, canciller designada, hace “un l...     2025-01-26   \n",
       "1  Nicolás Maduro le ofrece al presidente Gustavo...     2025-01-26   \n",
       "2  Federico Gutiérrez a Gustavo Petro tras sancio...     2025-01-26   \n",
       "\n",
       "                                           top_image                     link  \\\n",
       "0  https://caracoltv.brightspotcdn.com/dims4/defa...  www.noticiascaracol.com   \n",
       "1  https://caracoltv.brightspotcdn.com/dims4/defa...  www.noticiascaracol.com   \n",
       "2  https://caracoltv.brightspotcdn.com/dims4/defa...  www.noticiascaracol.com   \n",
       "\n",
       "                                           full_link  \\\n",
       "0  https://www.noticiascaracol.com/politica/laura...   \n",
       "1  https://www.noticiascaracol.com/politica/nicol...   \n",
       "2  https://www.noticiascaracol.com/politica/feder...   \n",
       "\n",
       "                                                text  \\\n",
       "0  Laura Sarabia, canciller designada, hace “un l...   \n",
       "1  NA través de Instagram, el autoproclamado mand...   \n",
       "2  Sigue la tensión internacional y nacional por ...   \n",
       "\n",
       "                                      processed_text  \n",
       "0  [laura, sarabia, canciller, designada, hace, l...  \n",
       "1  [na, través, instagram, autoproclamado, mandat...  \n",
       "2  [sigue, tensión, internacional, nacional, rifi...  "
      ]
     },
     "execution_count": 63,
     "metadata": {},
     "output_type": "execute_result"
    }
   ],
   "source": [
    "df_raw.head(3)"
   ]
  },
  {
   "cell_type": "code",
   "execution_count": 66,
   "metadata": {},
   "outputs": [],
   "source": [
    "# Guardamos nuestra base de datos\n",
    "\n",
    "df_raw.to_csv('processed-data/NoticiasPre_Enero2025.csv', index = False)\n",
    "df_raw.to_excel('processed-data/NoticiasPre_Enero2025.xlsx', index = False)"
   ]
  }
 ],
 "metadata": {
  "kernelspec": {
   "display_name": ".venv",
   "language": "python",
   "name": "python3"
  },
  "language_info": {
   "codemirror_mode": {
    "name": "ipython",
    "version": 3
   },
   "file_extension": ".py",
   "mimetype": "text/x-python",
   "name": "python",
   "nbconvert_exporter": "python",
   "pygments_lexer": "ipython3",
   "version": "3.11.8"
  }
 },
 "nbformat": 4,
 "nbformat_minor": 2
}
